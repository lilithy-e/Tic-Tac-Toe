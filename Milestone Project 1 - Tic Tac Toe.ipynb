{
 "cells": [
  {
   "cell_type": "code",
   "execution_count": 12,
   "metadata": {},
   "outputs": [],
   "source": [
    "from IPython.display import clear_output\n",
    "\n",
    "def displayBoard(board):\n",
    "    \n",
    "    print(board[0] + \" | \" + board[1] + \" | \" + board[2])\n",
    "    print(\"----------\")\n",
    "    print(board[3] + \" | \" + board[4] + \" | \" + board[5])\n",
    "    print(\"----------\")\n",
    "    print(board[6] + \" | \" + board[7] + \" | \" + board[8])"
   ]
  },
  {
   "cell_type": "code",
   "execution_count": 13,
   "metadata": {},
   "outputs": [],
   "source": [
    "def playerInput():\n",
    "    marker = ''\n",
    "    \n",
    "    while marker not in [\"x\",\"o\"]:\n",
    "        marker = input(\"Player 1 please enter x or o: \")\n",
    "        if marker not in [\"x\",\"o\"]:\n",
    "            print(\"Invalid choice! Please enter a valid input (x or o): \")            \n",
    "        \n",
    "    #Assigning the players their marks\n",
    "    player1 = marker\n",
    "    \n",
    "    if player1 == 'x':\n",
    "        player2 = 'o'\n",
    "    else:\n",
    "        player2 = 'x'\n",
    "        \n",
    "    print(\"\\nPlayer1 picked: \"+player1+\"\\nPlayer2 is: \"+player2)\n",
    "    \n",
    "    # Return as Tuple (Like a list, but can't be manipulated)\n",
    "    return (player1, player2)            "
   ]
  },
  {
   "cell_type": "code",
   "execution_count": null,
   "metadata": {},
   "outputs": [],
   "source": [
    "def placeMarker(board, marker, position):\n",
    "    board[position] = marker\n",
    "    print(board)"
   ]
  },
  {
   "cell_type": "code",
   "execution_count": null,
   "metadata": {},
   "outputs": [],
   "source": [
    "def winCheck(board, marker):\n",
    "    \n",
    "    if board[0] == board[1] == board[2] == marker or board[3] == board[4] == board[5] == marker or board[6] == board[7] == board[8] == marker:\n",
    "        print('Player '+ marker +' won!')\n",
    "        return True\n",
    "    elif board[0] == board[4] == board[8] == marker or board[2] == board[4] == board[6] == marker:\n",
    "        ('Player '+ marker +' won!')\n",
    "        return True\n",
    "    \n",
    "    else:\n",
    "        return False"
   ]
  },
  {
   "cell_type": "code",
   "execution_count": 14,
   "metadata": {},
   "outputs": [],
   "source": [
    "import random\n",
    "\n",
    "def chooseFirst():\n",
    "    # Randomly chooses which player goes first\n",
    "    players = ['Player 1','Player 2']\n",
    "    \n",
    "    firstplayer = players[random.randint(0,1)]\n",
    "    \n",
    "    print(\"The first player to go is: \"+firstplayer)"
   ]
  },
  {
   "cell_type": "code",
   "execution_count": 1,
   "metadata": {},
   "outputs": [],
   "source": [
    "def spaceCheck(board, position):\n",
    "    # Checks if there is a position available on the board, returns True or False\n",
    "    # Returns True if the position is available\n",
    "    \n",
    "    return board[position] not in ['x','o']\n",
    "    # Can also do: return board[position] == ' ' (to see if there is an empty space)"
   ]
  },
  {
   "cell_type": "code",
   "execution_count": null,
   "metadata": {},
   "outputs": [],
   "source": [
    "def fullBoardCheck(board):\n",
    "    # Returns TRUE if the board is full\n",
    "    \n",
    "    for i in range(0,9):\n",
    "        if spaceCheck(board, i):\n",
    "            return False\n",
    "    return True"
   ]
  },
  {
   "cell_type": "code",
   "execution_count": null,
   "metadata": {},
   "outputs": [],
   "source": []
  },
  {
   "cell_type": "code",
   "execution_count": 7,
   "metadata": {},
   "outputs": [],
   "source": [
    "def playerChoice(board):\n",
    "    position = 0\n",
    " \n",
    "    while position not in range(1,10) or not spaceCheck(board, position-1):        \n",
    "        position = int(input(\"Choose the next available position, from 1 to 9: \"))\n",
    "        strPosition = str(position)     \n",
    "        \n",
    "        if position not in range(1,10) or not spaceCheck(board, position-1):\n",
    "            print(\"You selected an invalid position! Please try again.\\n\")\n",
    "        elif spaceCheck(board, position-1) == False:\n",
    "            print(\"That position is taken! Try again.\")\n",
    "        else:            \n",
    "            print(\"You selected position \"+ strPosition +\" on the board.\")\n",
    "    return position\n",
    "      "
   ]
  },
  {
   "cell_type": "code",
   "execution_count": 8,
   "metadata": {},
   "outputs": [],
   "source": [
    "def replay():\n",
    "    replay = ''\n",
    "    \n",
    "    while replay not in ['Y','N']:\n",
    "        replay = input(\"Do you want to play again? (Y or N)\")\n",
    "        if replay not in ['Y','N']:\n",
    "            print('That choice is invalid! Please select Y or N')\n",
    "    \n",
    "    if replay == 'Y':\n",
    "        print(\"New round starting!\")\n",
    "        return True\n",
    "    print(\"No more gaming. Goodbye!\")\n",
    "    return False\n"
   ]
  },
  {
   "cell_type": "code",
   "execution_count": null,
   "metadata": {},
   "outputs": [],
   "source": []
  },
  {
   "cell_type": "code",
   "execution_count": null,
   "metadata": {},
   "outputs": [],
   "source": [
    "print(\"Welcome to Tic-Tac-Toe!\\n\")\n",
    "board = ['1','2','3','4','5','6','7','8','9']\n",
    "displayBoard(board)\n",
    "\n",
    "\n",
    "playerInput()"
   ]
  },
  {
   "cell_type": "code",
   "execution_count": null,
   "metadata": {},
   "outputs": [],
   "source": []
  }
 ],
 "metadata": {
  "kernelspec": {
   "display_name": "Python 3 (ipykernel)",
   "language": "python",
   "name": "python3"
  },
  "language_info": {
   "codemirror_mode": {
    "name": "ipython",
    "version": 3
   },
   "file_extension": ".py",
   "mimetype": "text/x-python",
   "name": "python",
   "nbconvert_exporter": "python",
   "pygments_lexer": "ipython3",
   "version": "3.9.7"
  }
 },
 "nbformat": 4,
 "nbformat_minor": 2
}
